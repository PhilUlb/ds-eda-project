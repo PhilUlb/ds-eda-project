{
 "cells": [
  {
   "cell_type": "markdown",
   "id": "932e5448-b2b3-48ae-b51a-4b2e7953d7ba",
   "metadata": {},
   "source": [
    "* House price regression: Add predictors to model based on correlation w/output (descending) and stop once adjusted R2 starts going down\n",
    "* Sales price seasonality: months of the year, days of the week, and interaction"
   ]
  },
  {
   "cell_type": "code",
   "execution_count": null,
   "id": "47da49e2-a332-41e1-843a-d084eaccef31",
   "metadata": {},
   "outputs": [],
   "source": []
  }
 ],
 "metadata": {
  "kernelspec": {
   "display_name": "Python 3 (ipykernel)",
   "language": "python",
   "name": "python3"
  },
  "language_info": {
   "codemirror_mode": {
    "name": "ipython",
    "version": 3
   },
   "file_extension": ".py",
   "mimetype": "text/x-python",
   "name": "python",
   "nbconvert_exporter": "python",
   "pygments_lexer": "ipython3",
   "version": "3.9.4"
  }
 },
 "nbformat": 4,
 "nbformat_minor": 5
}
